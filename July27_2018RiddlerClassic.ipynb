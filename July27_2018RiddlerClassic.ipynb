{
 "cells": [
  {
   "cell_type": "markdown",
   "metadata": {},
   "source": [
    "### A Hamiltonian Doodle\n",
    "***\n",
    "\n",
    "The July 27th Riddler Classic from [FiveThirtyEight](https://fivethirtyeight.com/features/the-perfect-doodle-puzzle-to-keep-you-busy-during-boring-meetings/) is as follows: \n",
    "\n",
    "> Start with an empty 5-by-5 grid of squares, and choose any square you want as your starting square. The rules for moving through the grid from there are strict:\n",
    "> \n",
    "> You may move exactly three cells horizontally or vertically, or you may move exactly two cells diagonally.\n",
    "> 1. You are not allowed to visit any cell you already visited.\n",
    "> 2. You are not allowed to step outside the grid.\n",
    "> 3. You win if you are able to visit all 25 cells.\n",
    "> \n",
    "> Is it possible to win? If so, how? If not, what are the largest and smallest numbers of squares you can legally visit?\n",
    "\n",
    "\n"
   ]
  },
  {
   "cell_type": "markdown",
   "metadata": {},
   "source": [
    "**The Punchline**: Yes! We can totally do it.  The animation below shows one possible solution starting from the lower left corner of the board. "
   ]
  },
  {
   "cell_type": "code",
   "execution_count": 38,
   "metadata": {},
   "outputs": [
    {
     "data": {
      "text/html": [
       "<img src=\"https://raw.githubusercontent.com/chrisketelsen/riddlers/master/figs/July27_2018RiddlerClassic/July27_2018RiddlerClassic.gif\"; width=500; align=\"left\">"
      ],
      "text/plain": [
       "<IPython.core.display.HTML object>"
      ]
     },
     "execution_count": 38,
     "metadata": {},
     "output_type": "execute_result"
    }
   ],
   "source": [
    "from IPython.display import HTML\n",
    "HTML('<img src=\"https://raw.githubusercontent.com/chrisketelsen/riddlers/master/figs/July27_2018RiddlerClassic/July27_2018RiddlerClassic.gif\"; width=500; align=\"left\">')"
   ]
  },
  {
   "cell_type": "markdown",
   "metadata": {},
   "source": [
    "**The Solution**: This Riddler is actually a twist on the classic [Knight's Tour Puzzle](https://en.wikipedia.org/wiki/Knight%27s_tour).  In the classic puzzle you're asked to find a sequence of moves of a Knight in chess that visits each spot on the chess board exactly once.  In our case, the allowable moves are a little different, but it's pretty much the same idea.     \n",
    "\n",
    "The general strategy for such problems is to embed the game in an undirected graph, where each spot on the board is a vertex, and we place an edge between all pairs of vertices between which there is a legal move. We can then couch the entire problem in terms of graph theory.  \n",
    "\n",
    "In graph theory, we refer to a path through the graph that visits each vertex exactly one time a [Hamiltonian Path](https://en.wikipedia.org/wiki/Hamiltonian_path). Unfortunately, determining if a graph contains a Hamiltonian Path can be fairly difficult, and finding such a path even more so.  In fact, the problem of determining a valid Hamiltonian Path is [NP-Complete](https://en.wikipedia.org/wiki/NP-completeness), which for us just means that if we want to solve the problem on a computer, the algorithm will likely have complexity that is exponential in the number of inputs.  \n",
    "\n",
    "Luckily for us, because the graph associated with our problem is reasonably small, we can find a valid Hamiltonian Path in a reasonable amount of time in Python using a [backtracking](https://en.wikipedia.org/wiki/Backtracking) algorithm. The code for constructing the associated graph and finding Hamiltonian Paths can be found below. \n",
    "\n",
    "OK, so we found a solution starting from one particular position, but what if we start from a different position? In general, we'd need to run our code again from the new starting position to verify that such a winning path exists.  But in our case, we get lucky again.  Note that in the animation, the final position of the winning sequence is three squares to the right of the starting position.  This means that we can return to our starting position from our end position using a legal move.  For the graph, this means that the Hamiltonian Path that we've found is actually a **Hamiltonian Cycle**. For us this means that we can find a winning sequence by starting from the new position, following the same winning sequence shown above, and wrapping around from the end position to the start position when necessary. \n"
   ]
  },
  {
   "cell_type": "markdown",
   "metadata": {},
   "source": [
    "\n",
    "<br><br><br><br>\n",
    "## Helper Functions\n",
    "***"
   ]
  },
  {
   "cell_type": "code",
   "execution_count": 1,
   "metadata": {},
   "outputs": [],
   "source": [
    "import numpy as np \n",
    "import matplotlib.pylab as plt\n",
    "%matplotlib inline "
   ]
  },
  {
   "cell_type": "code",
   "execution_count": 45,
   "metadata": {},
   "outputs": [
    {
     "name": "stdout",
     "output_type": "stream",
     "text": [
      "3.53 ms ± 371 µs per loop (mean ± std. dev. of 7 runs, 100 loops each)\n"
     ]
    }
   ],
   "source": [
    "class GridGraph:\n",
    "    \"\"\"Class to store and analyze grid \n",
    "    \"\"\"\n",
    "    def __init__(self):\n",
    "        \"\"\"Build undirected graph representing board \n",
    "        \"\"\"\n",
    "        \n",
    "        # define local to global map \n",
    "        self.loc2glob, self.glob2loc, ctr = dict(), dict(), 0 \n",
    "        for ii in range(5):\n",
    "            for jj in range(5):\n",
    "                self.loc2glob[(ii,jj)], self.glob2loc[ctr], ctr = ctr, (ii,jj), ctr+1 \n",
    "                \n",
    "        # define adj list based on game rules\n",
    "        self.adj = {ctr: [] for ctr in range(25)}\n",
    "        for ii in range(5):\n",
    "            for jj in range(5):\n",
    "                for move in [(ii-3,jj), (ii+3,jj), (ii,jj-3), (ii,jj+3), (ii-2,jj+2), (ii+2,jj+2), (ii-2,jj-2), (ii+2,jj-2)]:\n",
    "                    if self.loc2glob.get(move, None) is not None:\n",
    "                        self.adj[self.loc2glob[(ii,jj)]].append(self.loc2glob[move])\n",
    "    \n",
    "    def hamiltonianCycle(self, start=0):\n",
    "        \"\"\" Driver function for determining a Hamiltonian Cycle from a starting node \n",
    "        \"\"\"\n",
    "        \n",
    "        # initialize cycle \n",
    "        self.cycle = [start] \n",
    "    \n",
    "        # try to find valid cycle \n",
    "        if not self.findCycle(1):\n",
    "            print(\"No Hamiltonian Cycle exists :(\")\n",
    "            return None \n",
    "        \n",
    "        return self.cycle \n",
    "    \n",
    "    def findCycle(self, pos):\n",
    "        \"\"\" Recursive function that builds the Hamiltonian cycle\n",
    "        \"\"\"\n",
    "        \n",
    "        # If we have a full length path \n",
    "        if len(self.cycle) == len(self.adj): \n",
    "            # If it's also a cycle, we're done, otherwise we're not  \n",
    "            return self.cycle[-1] in self.adj[self.cycle[0]]\n",
    "            # Note: This implementation actually finds Hamiltonian Cycles. \n",
    "            # If you want to find Hamiltonian paths, just change the line above to \n",
    "            # return True \n",
    "            \n",
    "        # Try valid adjacent vertices not yet in path \n",
    "        for nxt in list(set(self.adj[self.cycle[pos-1]]) - set(self.cycle)):\n",
    "            # add vertex to potential cycle \n",
    "            self.cycle.append(nxt)\n",
    "            # if we found a valid hamiltonian cycle, exit \n",
    "            if self.findCycle(pos+1):\n",
    "                return True \n",
    "            # else backtrack and continue \n",
    "            self.cycle = self.cycle[:pos]\n",
    "\n",
    "        # we failed to find a cycle \n",
    "        return False \n",
    "    \n",
    "    def prettier_plot(self, cycle):\n",
    "        \"\"\"Plot the current state of the board \n",
    "        \"\"\"\n",
    "        \n",
    "        mycolors = {\"blue\": \"steelblue\", \"red\": \"#a76c6e\", \"green\": \"#6a9373\"}\n",
    "        \n",
    "        # setup figure \n",
    "        fig, ax = plt.subplots(figsize=(8,8))\n",
    "        \n",
    "        # plot grid lines \n",
    "        for ii in range(5+1):\n",
    "            for jj in range(5+1):\n",
    "                ax.plot([0,5], [jj, jj], color=\"gray\", lw=3)\n",
    "                ax.plot([ii, ii], [0,5], color=\"gray\", lw=3)\n",
    "        \n",
    "        # define coordinates \n",
    "        xvals = np.array([self.glob2loc[p][0]+.5 for p in cycle])\n",
    "        yvals = np.array([self.glob2loc[p][1]+.5 for p in cycle])\n",
    "        \n",
    "        # plot starting point \n",
    "        ax.scatter([xvals[0]], [yvals[0]], s=300, marker=\"s\", color=mycolors[\"red\"])\n",
    "        \n",
    "        # plot all but the last cycle vertex \n",
    "        if len(cycle) > 1: \n",
    "            ax.scatter(xvals[1:-1], yvals[1:-1], s=300, marker=\"o\", color=\"gray\")\n",
    "            \n",
    "        # plot the last vectex \n",
    "        ax.scatter([xvals[-1]], [yvals[-1]], s=300, marker=\"o\", color=mycolors[\"red\"])\n",
    "        \n",
    "        # fill in squares that have been visited \n",
    "        for x, y in zip(xvals, yvals):\n",
    "            plt.fill_between([int(x), int(x+1)], [int(y), int(y)], [int(y+1), int(y+1)], color=\"gray\", alpha=0.25)\n",
    "            \n",
    "        # pretty up \n",
    "        plt.xticks([])\n",
    "        plt.yticks([])\n",
    "        ax.xaxis.set_ticklabels([])\n",
    "        ax.yaxis.set_ticklabels([])       \n",
    "        ax.spines['left'].set_visible(False)\n",
    "        ax.spines['right'].set_visible(False)\n",
    "        ax.spines['top'].set_visible(False)\n",
    "        ax.spines['bottom'].set_visible(False)\n",
    "        \n",
    "        return ax \n",
    "    \n",
    "    def animate(self, start=0):\n",
    "        \"\"\"Create images for an animation of the soluiton \n",
    "        \"\"\"\n",
    "        \n",
    "        cycle = self.hamiltonianCycle(start=start)\n",
    "        assert(len(cycle)==25)\n",
    "        \n",
    "        for ii in range(25):\n",
    "            fig, ax = plt.subplots(figsize=(8,8))\n",
    "            ax = self.prettier_plot(cycle[:ii+1])\n",
    "            plt.savefig(\"./figs/July27_2018RiddlerClassic/start{:d}_{:d}.png\".format(start,ii),bbox_inches=\"tight\")\n",
    "            plt.close()\n",
    "        \n",
    "g = GridGraph()\n",
    "%timeit cycle = g.hamiltonianCycle(start=0)"
   ]
  },
  {
   "cell_type": "code",
   "execution_count": null,
   "metadata": {},
   "outputs": [],
   "source": []
  }
 ],
 "metadata": {
  "kernelspec": {
   "display_name": "Python 3",
   "language": "python",
   "name": "python3"
  },
  "language_info": {
   "codemirror_mode": {
    "name": "ipython",
    "version": 3
   },
   "file_extension": ".py",
   "mimetype": "text/x-python",
   "name": "python",
   "nbconvert_exporter": "python",
   "pygments_lexer": "ipython3",
   "version": "3.6.5"
  }
 },
 "nbformat": 4,
 "nbformat_minor": 1
}
