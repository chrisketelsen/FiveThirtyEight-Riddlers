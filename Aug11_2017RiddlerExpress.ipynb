{
 "cells": [
  {
   "cell_type": "markdown",
   "metadata": {},
   "source": [
    "### Can You Plug The White House Leak?\n",
    "***\n",
    "\n",
    "The August 11th Riddler Express from [FiveThirtyEight](https://fivethirtyeight.com/features/can-you-plug-the-white-house-leak/) is as follows: \n",
    "\n",
    "> Let’s say you’re the president of the United States. You have a problem: Someone on your staff keeps leaking stories to the press. So you and your new chief of staff devise a plan. You will give different pieces of information to different staffers so that you’ll learn who the leakers are by what information ends up in the newspaper or on TV. (You know you have only one leaker, and you know he or she leaks any story he or she is given.)\n",
    "\n",
    "> If there are 100 people on your staff, how many different stories do you need to identify your leaker for sure?\n",
    "\n",
    "You can smoke out the leaker by selectively distributing **seven** different stories amongst your 100 staffers. The idea is to distribute the seven stories to the staffers in unique combinations based on binary representations. Assign each staffer a number from 1 to 100.  Now convert each number to its binary representation.  Associate each bit in the binary representation with one of the seven fake stories.  \n",
    "\n",
    "\\begin{array}{l|ccccccc}\n",
    " & \\textrm{story 1} & \\textrm{story 2} & \\textrm{story 3} & \\textrm{story 4} & \\textrm{story 5} & \\textrm{story 6} & \\textrm{story 7} \\\\ \n",
    " \\hline \n",
    "\\textrm{staffer 1} & 0 & 0 & 0 & 0 & 0 & 0 & 1 \\\\ \n",
    "\\textrm{staffer 2} & 0 & 0 & 0 & 0 & 0 & 1 & 0 \\\\ \n",
    "\\textrm{staffer 3} & 0 & 0 & 0 & 0 & 0 & 1 & 1 \\\\ \n",
    "\\textrm{staffer 4} & 0 & 0 & 0 & 0 & 1 & 0 & 0 \\\\ \n",
    "\\textrm{staffer 5} & 0 & 0 & 0 & 0 & 1 & 0 & 1 \\\\ \n",
    "& & & & & & & \\\\ \n",
    "~~~~~ \\vdots & \\vdots & \\vdots & \\vdots & \\vdots & \\vdots & \\vdots & \\vdots \\\\ \n",
    "& & & & & & & \\\\ \n",
    "\\textrm{staffer 98} & 1 & 1 & 0 & 0 & 0 & 1 & 0 \\\\ \n",
    "\\textrm{staffer 99} & 1 & 1 & 0 & 0 & 0 & 1 & 1 \\\\ \n",
    "\\textrm{staffer 100} & 1 & 1 & 0 & 0 & 1 & 0 & 0 \\\\ \n",
    "\\end{array}\n",
    "\n",
    "Take staffer 77, for example. The number 77 in binary is 1001101. So we feed staffer 77 the first, fourth, fifth, and seventh fake stories, and see if those (and only those stories) show up in the news the next day.  \n",
    "\n",
    "Now consider staffer 79.  The number 79 in binary is 1001111.  So we feed staffer 79 the first, fourth, fifth, **sixth**, and seventh fake stories.  If the first, fourth, fifth, sixth, and seventh stories show up in the news the next day then we know staffer 79 is the leaker.  Note that the unique binary representation allows us to detect staffer 79 as opposed to staffer 77, because even though stories 1, 4, 5, and 7 showed up in the news, the fact that story 6 showed up as well eliminates staffer 77 from suspicion. \n",
    "\n",
    "Note that with seven stories we could smoke out a leaker in up to 128 staffers.  In general, with $n$ stories, we can find the leaker among $2^n$ staffers, since we can represent any number from $0$ to $2^n-1$ using $n$ binary bits. "
   ]
  }
 ],
 "metadata": {
  "kernelspec": {
   "display_name": "Python 3",
   "language": "python",
   "name": "python3"
  },
  "language_info": {
   "codemirror_mode": {
    "name": "ipython",
    "version": 3
   },
   "file_extension": ".py",
   "mimetype": "text/x-python",
   "name": "python",
   "nbconvert_exporter": "python",
   "pygments_lexer": "ipython3",
   "version": "3.5.2"
  }
 },
 "nbformat": 4,
 "nbformat_minor": 0
}
