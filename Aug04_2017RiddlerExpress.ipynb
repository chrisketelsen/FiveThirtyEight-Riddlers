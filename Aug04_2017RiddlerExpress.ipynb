{
 "cells": [
  {
   "cell_type": "markdown",
   "metadata": {},
   "source": [
    "### A Game of Hot Potato \n",
    "***\n",
    "\n",
    "The Aug 4th 2017 Riddler Express from [FiveThirtyEight]() asks the following: \n",
    "\n",
    "> A class of 30 children is playing a game where they all stand in a circle along with their teacher. The teacher is holding two things: a coin and a potato. The game progresses like this: The teacher tosses the coin. Whoever holds the potato passes it to the left if the coin comes up heads and to the right if the coin comes up tails. The game ends when every child except one has held the potato, and the one who hasn’t is declared the winner.\n",
    "\n",
    "> How do a child’s chances of winning change depending on where they are in the circle? In other words, what is each child’s win probability?\n",
    "\n",
    "**Simulation Approach**: The following code simulates the hot potato game for many trials, records the frequency with which each student wins, and then divides by the total number of trials to get estimates of the probabilities. "
   ]
  },
  {
   "cell_type": "code",
   "execution_count": 4,
   "metadata": {
    "collapsed": false
   },
   "outputs": [],
   "source": [
    "using Distributions"
   ]
  },
  {
   "cell_type": "code",
   "execution_count": 5,
   "metadata": {
    "collapsed": false
   },
   "outputs": [
    {
     "data": {
      "text/plain": [
       "potato_sim (generic function with 1 method)"
      ]
     },
     "execution_count": 5,
     "metadata": {},
     "output_type": "execute_result"
    }
   ],
   "source": [
    "function potato_trial(N::Int64=30)\n",
    "    \n",
    "    # Initialize students \n",
    "    students = falses(N)\n",
    "    \n",
    "    # Start potato \n",
    "    potato = rand(Bernoulli(0.5)) == 1 ? N : 1 \n",
    "    students[potato] = true \n",
    "    \n",
    "    # Simulate until all but one student has had potato \n",
    "    while sum(students) < N-1\n",
    "        \n",
    "        # coin flip \n",
    "        move = rand(Bernoulli(0.5)) == 1 ? -1 : 1\n",
    "        \n",
    "        # pass the potato \n",
    "        potato = (potato + move + N - 1)%N + 1 \n",
    "        \n",
    "        # mark student as non-winner \n",
    "        students[potato] = true \n",
    "        \n",
    "    end\n",
    "    \n",
    "    return find(!students)\n",
    "    \n",
    "end\n",
    "\n",
    "function potato_sim(N::Int64, M::Int64)\n",
    "    # ------------------------------------------------------------\n",
    "    # Function to simulate M trials of the hot potato \n",
    "    # ------------------------------------------------------------\n",
    "    \n",
    "    # Initialize counts winners \n",
    "    counts = zeros(Int64, N)\n",
    "    \n",
    "    for ii=1:M\n",
    "        counts[potato_trial(N)] += 1 \n",
    "    end\n",
    "    \n",
    "    # Divide counts by total trials to get probability estimates\n",
    "    probs = counts / Float64(sum(counts)) \n",
    "    \n",
    "    # Print probabilities \n",
    "    for ii=1:N\n",
    "        @printf \"Pr(student %2d) = %4.4f\\n\" ii probs[ii]\n",
    "    end\n",
    "    \n",
    "    return probs \n",
    "    \n",
    "end"
   ]
  },
  {
   "cell_type": "markdown",
   "metadata": {},
   "source": [
    "Here we run 10 Million trials of the hot potato game, tabulate the winners, and estimate the probability of winning for each student. "
   ]
  },
  {
   "cell_type": "code",
   "execution_count": 161,
   "metadata": {
    "collapsed": false,
    "scrolled": false
   },
   "outputs": [
    {
     "name": "stdout",
     "output_type": "stream",
     "text": [
      "Pr(student  1) = 0.0173\n",
      "Pr(student  2) = 0.0345\n",
      "Pr(student  3) = 0.0345\n",
      "Pr(student  4) = 0.0345\n",
      "Pr(student  5) = 0.0345\n",
      "Pr(student  6) = 0.0345\n",
      "Pr(student  7) = 0.0345\n",
      "Pr(student  8) = 0.0345\n",
      "Pr(student  9) = 0.0344\n",
      "Pr(student 10) = 0.0344\n",
      "Pr(student 11) = 0.0344\n",
      "Pr(student 12) = 0.0345\n",
      "Pr(student 13) = 0.0344\n",
      "Pr(student 14) = 0.0344\n",
      "Pr(student 15) = 0.0345\n",
      "Pr(student 16) = 0.0345\n",
      "Pr(student 17) = 0.0345\n",
      "Pr(student 18) = 0.0345\n",
      "Pr(student 19) = 0.0345\n",
      "Pr(student 20) = 0.0345\n",
      "Pr(student 21) = 0.0344\n",
      "Pr(student 22) = 0.0345\n",
      "Pr(student 23) = 0.0345\n",
      "Pr(student 24) = 0.0346\n",
      "Pr(student 25) = 0.0346\n",
      "Pr(student 26) = 0.0344\n",
      "Pr(student 27) = 0.0345\n",
      "Pr(student 28) = 0.0345\n",
      "Pr(student 29) = 0.0344\n",
      "Pr(student 30) = 0.0173\n"
     ]
    }
   ],
   "source": [
    "prob = potato_sim(30,Int64(1e7));"
   ]
  },
  {
   "cell_type": "markdown",
   "metadata": {},
   "source": [
    "According to the estimates, Students 2-29 are each equally likely to win the game, while Students 1 and 30 are half as likely to win the game.  In general if there are $N$ students playing the game, it appears that students not standing next to the teacher will win with probability $p_{not\\_next\\_to} = \\frac{1}{N-1}$ and students standing next to the teacher will win with probability $p_{next\\_to} = \\frac{1}{2} \\cdot \\frac{1}{N-1}$. "
   ]
  },
  {
   "cell_type": "code",
   "execution_count": null,
   "metadata": {
    "collapsed": true
   },
   "outputs": [],
   "source": []
  }
 ],
 "metadata": {
  "kernelspec": {
   "display_name": "Julia 0.5.2",
   "language": "julia",
   "name": "julia-0.5"
  },
  "language_info": {
   "file_extension": ".jl",
   "mimetype": "application/julia",
   "name": "julia",
   "version": "0.5.2"
  }
 },
 "nbformat": 4,
 "nbformat_minor": 0
}
