{
 "cells": [
  {
   "cell_type": "markdown",
   "metadata": {},
   "source": [
    "### Dec 18th 2015 Riddler: Which Geyser Gushes First? \n",
    "***\n",
    "\n",
    "The Dec 18th 2015 Riddler from [FiveThirtyEight](https://fivethirtyeight.com/features/which-geyser-gushes-first/) asks the following: \n",
    "\n",
    "> You arrive at the beautiful Three Geysers National Park. You read a placard explaining that the three eponymous geysers — creatively named A, B and C — erupt at intervals of precisely two hours, four hours and six hours, respectively. However, you just got there, so you have no idea how the three eruptions are staggered. Assuming they each started erupting at some independently random point in history, _what are the probabilities_ that A, B and C, respectively, will be the first to erupt after your arrival?\n",
    "\n",
    "**Simulation Approach**: We'll start by performing a Monte Carlo simulation to estimate the probability of each of the three geysers going off first after your arrival.  To do this we randomly sample your arrival time from $U[0,2]$ (we choose $2$ because it is guaranteed that at least one geyser will fire in any two hour window).  We then randomly sample firing times for Geysers $A,$ $B,$ and $C$ from $U[0,2]$, $U[0,4]$, and $U[0,6]$ respectively.  Finally, we record the number of times each geyser fires first and divide out by the total number of trials. "
   ]
  },
  {
   "cell_type": "code",
   "execution_count": 1,
   "metadata": {
    "collapsed": false
   },
   "outputs": [],
   "source": [
    "using Distributions"
   ]
  },
  {
   "cell_type": "code",
   "execution_count": 2,
   "metadata": {
    "collapsed": false
   },
   "outputs": [
    {
     "data": {
      "text/plain": [
       "geyser_sim (generic function with 2 methods)"
      ]
     },
     "execution_count": 2,
     "metadata": {},
     "output_type": "execute_result"
    }
   ],
   "source": [
    "function geyser_sim(M::Int64=1000000)\n",
    "    # ------------------------------------------------------------\n",
    "    # Function to simulate M trials of random trips to the Geyser  \n",
    "    # ------------------------------------------------------------\n",
    "    \n",
    "    # Initialize counts of first geyser \n",
    "    counts = zeros(Int64, 3)\n",
    "    \n",
    "    for ii=1:(Int64(M/10000)+1)\n",
    "        \n",
    "        # Draw samples for your arrival from U[0,12]\n",
    "        arrivals = rand(Uniform(0.0, 2.0), 10000)\n",
    "\n",
    "        # Sample wait times from your arrival to first gush from each geyser \n",
    "        Awaits = map(x -> (x >= 0) ? x : x + 2.0, (rand(Uniform(0.0,2.0),10000)-arrivals))\n",
    "        Bwaits = map(x -> (x >= 0) ? x : x + 4.0, (rand(Uniform(0.0,4.0),10000)-arrivals))\n",
    "        Cwaits = map(x -> (x >= 0) ? x : x + 6.0, (rand(Uniform(0.0,6.0),10000)-arrivals))\n",
    "        \n",
    "        # Record which geyser goes off first for each trial \n",
    "        firsts  = map(abc -> findmin(abc)[2], zip(Awaits, Bwaits, Cwaits))\n",
    "\n",
    "        # Count trials for which each geyser wins \n",
    "        for first in firsts\n",
    "            counts[first] += 1\n",
    "        end\n",
    "    \n",
    "    end\n",
    "    \n",
    "    # Divide counts by total trials to get probability estimates\n",
    "    probs = counts / Float64(sum(counts)) \n",
    "    \n",
    "    # Print probabilities \n",
    "    @printf \"Pr(A) = %f, Pr(B) = %f, Pr(C) = %f\\n\" probs[1] probs[2] probs[3]\n",
    "    \n",
    "    return probs \n",
    "    \n",
    "end"
   ]
  },
  {
   "cell_type": "markdown",
   "metadata": {},
   "source": [
    "The estimated probabilities from the simulation with 100 Million trials are as follows: "
   ]
  },
  {
   "cell_type": "code",
   "execution_count": 5,
   "metadata": {
    "collapsed": false
   },
   "outputs": [
    {
     "name": "stdout",
     "output_type": "stream",
     "text": [
      "Pr(A) = 0.638967, Pr(B) = 0.222179, Pr(C) = 0.138854\n"
     ]
    }
   ],
   "source": [
    "prob = geyser_sim(Int64(1e8));"
   ]
  },
  {
   "cell_type": "markdown",
   "metadata": {},
   "source": [
    "According to the estimates Geyser $A$ will be first around $64\\%$ of the time, Geyser $B$ will be first $22\\%$ of the time, and Geyser $C$ will be first $14\\%$ of the time. \n",
    "\n",
    "**Analytic Approach**: OK, now let's try the pencil-and-paper approach and see if we get the same results. \n",
    "\n",
    "Notice that if we consider a $2$hr period directly after your arrival, Geyser $A$ will fire with probability 1, Geyser $B$ will fire with probability $\\frac{1}{2}$, and Geyser $C$ will fire with probability $\\frac{1}{3}$.  There are four possible cases for the two hour period: \n",
    "\n",
    "- **Case 1**: Geysers $A$, $B$, and $C$ all fire \n",
    "- **Case 2**: Geysers $A$ and $B$ fire, but not $C$ \n",
    "- **Case 3**: Geysers $A$ and $C$ fire, but not $B$ \n",
    "- **Case 4**: Geyser $A$ fires but both $B$ and $C$ do not \n",
    "\n",
    "Now, since the actual instances in time that a geyser fires is random, we assume that for each case, there is an equal probability that any of the actually-firing geysers will be the first to fire.  Under these assumptions we can calculate the probability that, say, Geyser $A$ will fire first by summing the product of the probability of each case occurring with the probability that Geyser $A$ fires first in each case. We have: "
   ]
  },
  {
   "cell_type": "markdown",
   "metadata": {},
   "source": [
    "\\begin{eqnarray}\n",
    "\\nonumber\n",
    "\\textrm{Pr}(A) &=&\n",
    "\\left[\\left(1\\cdot\\frac{1}{2}\\cdot\\frac{1}{3}\\right)\\cdot\\frac{1}{3} \\right] + \n",
    "\\left[\\left(1\\cdot\\frac{1}{2}\\cdot\\frac{2}{3}\\right)\\cdot\\frac{1}{2} \\right] + \n",
    "\\left[\\left(1\\cdot\\frac{1}{2}\\cdot\\frac{1}{3}\\right)\\cdot\\frac{1}{2} \\right] + \n",
    "\\left[\\left(1\\cdot\\frac{1}{2}\\cdot\\frac{2}{3}\\right)\\cdot 1 \\right]  = \\frac{23}{36} = 0.63\\bar{8} \\\\\n",
    "&& \\\\\n",
    "\\textrm{Pr}(B) &=&\n",
    "\\left[\\left(1\\cdot\\frac{1}{2}\\cdot\\frac{1}{3}\\right)\\cdot\\frac{1}{3} \\right] + \n",
    "\\left[\\left(1\\cdot\\frac{1}{2}\\cdot\\frac{2}{3}\\right)\\cdot\\frac{1}{2} \\right] + \n",
    "\\left[\\left(1\\cdot\\frac{1}{2}\\cdot\\frac{1}{3}\\right)\\cdot 0  \\right] + \n",
    "\\left[\\left(1\\cdot\\frac{1}{2}\\cdot\\frac{2}{3}\\right)\\cdot 0 \\right]  = \\frac{8}{36} = 0.\\bar{2} \\\\\n",
    "&& \\\\\n",
    "\\textrm{Pr}(C) &=&\n",
    "\\left[\\left(1\\cdot\\frac{1}{2}\\cdot\\frac{1}{3}\\right)\\cdot\\frac{1}{3} \\right] + \n",
    "\\left[\\left(1\\cdot\\frac{1}{2}\\cdot\\frac{2}{3}\\right)\\cdot 0 \\right] + \n",
    "\\left[\\left(1\\cdot\\frac{1}{2}\\cdot\\frac{1}{3}\\right)\\cdot \\frac{1}{2}  \\right] + \n",
    "\\left[\\left(1\\cdot\\frac{1}{2}\\cdot\\frac{2}{3}\\right)\\cdot 0 \\right]  = \\frac{5}{36} = 0.13\\bar{8} \\\\\n",
    "\\end{eqnarray}\n",
    "\n",
    "Notice that the simulation results obtained above are extremely close to the analytic results obtained here. "
   ]
  },
  {
   "cell_type": "code",
   "execution_count": null,
   "metadata": {
    "collapsed": true
   },
   "outputs": [],
   "source": []
  }
 ],
 "metadata": {
  "kernelspec": {
   "display_name": "Julia 0.5.2",
   "language": "julia",
   "name": "julia-0.5"
  },
  "language_info": {
   "file_extension": ".jl",
   "mimetype": "application/julia",
   "name": "julia",
   "version": "0.5.2"
  }
 },
 "nbformat": 4,
 "nbformat_minor": 0
}
