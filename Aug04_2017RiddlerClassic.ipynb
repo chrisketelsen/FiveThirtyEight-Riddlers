{
 "cells": [
  {
   "cell_type": "markdown",
   "metadata": {},
   "source": [
    "### Is This Bathroom Occupied?\n",
    "***\n",
    "\n",
    "The Aug 4th 2017 Riddler Classic from [FiveThirtyEight]() asks the following: \n",
    "\n",
    "> There is a bathroom in your office building that has only one toilet. There is a small sign stuck to the outside of the door that you can slide from “Vacant” to “Occupied” so that no one else will try the door handle (theoretically) when you are inside. Unfortunately, people often forget to slide the sign to “Occupied” when entering, and they often forget to slide it to “Vacant” when exiting.\n",
    "\n",
    "> Assume that 1/3 of bathroom users don’t notice the sign upon entering or exiting. Therefore, whatever the sign reads before their visit, it still reads the same thing during and after their visit. Another 1/3 of the users notice the sign upon entering and make sure that it says “Occupied” as they enter. However, they forget to slide it to “Vacant” when they exit. The remaining 1/3 of the users are very conscientious: They make sure the sign reads “Occupied” when they enter, and then they slide it to “Vacant” when they exit. Finally, assume that the bathroom is occupied exactly half of the time, all day, every day.\n",
    "\n",
    "> Two questions about this workplace situation:\n",
    "\n",
    "> 1. If you go to the bathroom and see that the sign on the door reads “Occupied,” what is the probability that the bathroom is actually occupied?\n",
    "<p> </p> \n",
    ">2. If the sign reads “Vacant,” what is the probability that the bathroom actually is vacant?\n",
    "\n",
    "> _Extra credit_: What happens as the percentage of conscientious bathroom users changes? \n"
   ]
  },
  {
   "cell_type": "markdown",
   "metadata": {},
   "source": [
    "**Notation**: In this problem we're going to be keeping track of both the state of usage of the bathroom and the state of the sign, so we'll need some simple notation to keep things straight.  \n",
    "\n",
    "The sign can be in two states: it can either indicate that the bathroom is occupied, which we denote $O$, or can indicate that the bathroom is vacant, which we denote $V$. \n",
    "\n",
    "For the usage state there are four possible cases: the bathroom can be empty, or one of three types of people can be in it.  We denote these four usage states as follows \n",
    "\n",
    "\\begin{array}{c|c|c}\n",
    "\\textrm{usage state} & \\textrm{label} & \\textrm{behavior} \\\\\n",
    "\\hline\n",
    "\\textrm{empty} & E & \\textrm{does not change sign at all} \\\\\n",
    "\\hline\n",
    "\\textrm{apathetic person} & A & \\textrm{does not change sign upon entrance or exit} \\\\\n",
    "\\hline\n",
    "\\textrm{selfish person} & S & \\textrm{changes sign to $O$ upon entrance and leaves sign at $O$ on exit } \\\\\n",
    "\\hline\n",
    "\\textrm{conscientious person} & C & \\textrm{changes to $O$ upon entrance and changes sign to $V$ on exit } \n",
    "\\end{array}\n",
    "\n",
    "Note that there are then 8 possible usage-sign state combinations.  \n",
    "\n",
    "**Simulation Approach**: We start by simulating the usage of the bathroom and recording the frequency that the system is in each usage-sign state combination and then divide each frequency by the total number of observations we've made.  If we run the simulation long enough then these ratios should be a good approximation of the probability of the system being in each usage-sign state combination at any given time.    "
   ]
  },
  {
   "cell_type": "code",
   "execution_count": 1,
   "metadata": {
    "collapsed": false
   },
   "outputs": [],
   "source": [
    "using Distributions"
   ]
  },
  {
   "cell_type": "code",
   "execution_count": 2,
   "metadata": {
    "collapsed": false
   },
   "outputs": [
    {
     "data": {
      "text/plain": [
       "bathroom_sim (generic function with 1 method)"
      ]
     },
     "execution_count": 2,
     "metadata": {},
     "output_type": "execute_result"
    }
   ],
   "source": [
    "function exit_bathroom(u, s)\n",
    "    # ------------------------------------------------------------\n",
    "    # Function to simulate sign changes on exit from bathroom \n",
    "    # based on user type \n",
    "    # Parameters: \n",
    "    #     u: usage state (1-E, 2-A, 3-S, 4-C)\n",
    "    #     s: current sign state (1-vacant, 2-occupied)\n",
    "    # ------------------------------------------------------------\n",
    "    \n",
    "    if (u == 1) | (u == 2)\n",
    "        return s \n",
    "    elseif u == 3 \n",
    "        return 2 \n",
    "    else\n",
    "        return 1 \n",
    "    end \n",
    "    \n",
    "end\n",
    "\n",
    "function enter_bathroom(u, s)\n",
    "    # ------------------------------------------------------------\n",
    "    # Function to simulate sign changes on entrance to bathroom \n",
    "    # based on user type \n",
    "    # Parameters: \n",
    "    #     u: usage state (1-E, 2-A, 3-S, 4-C)\n",
    "    #     s: current sign state (1-vacant, 2-occupied)\n",
    "    # ------------------------------------------------------------\n",
    "    \n",
    "    if (u == 1) | (u == 2)\n",
    "        return s \n",
    "    else\n",
    "        return 2 \n",
    "    end \n",
    "    \n",
    "end\n",
    "\n",
    "function bathroom_trial(pc=1/3; thin=10)\n",
    "    # ------------------------------------------------------------\n",
    "    # Function to simulate one bathroom trial  \n",
    "    # Parameters: \n",
    "    #     pc: probability of type C user \n",
    "    #     thin: frequency to collect observations\n",
    "    # Notes: We assume that for a given probability of a \n",
    "    # type C user, the appearence of type A and S users are \n",
    "    # equally likely. \n",
    "    # ------------------------------------------------------------\n",
    "    \n",
    "    # Initialize counting matrix with dimensions (usage states x sign states)\n",
    "    # where again usage denoted by (1-E, 2-A, 3-S, 4-C) and sign state denoted\n",
    "    # by (1-vacant, 2-occupied)\n",
    "    counts = zeros(4,2)\n",
    "    \n",
    "    # Initialize usage state from Multinouli distribution\n",
    "    use_state = findfirst(rand(Multinomial(1,[1/2,(1-pc)/4,(1-pc)/4,pc/2])))\n",
    "    \n",
    "    # Initialize sign state (1-vacant, 2-occupied)\n",
    "    sign_state = findfirst(rand(Multinomial(1,[1/2,1/2])))\n",
    "    \n",
    "    for ii=1:1000 \n",
    "        \n",
    "        # current occupant leaves \n",
    "        sign_state = exit_bathroom(use_state, sign_state)\n",
    "        \n",
    "        # new occupant enters \n",
    "        use_state = findfirst(rand(Multinomial(1,[1/2,(1-pc)/4,(1-pc)/4,pc/2])))\n",
    "        sign_state = enter_bathroom(use_state, sign_state)\n",
    "        \n",
    "        # record occupancy and sign state \n",
    "        if ii%thin == 0 \n",
    "            counts[use_state, sign_state] += 1 \n",
    "        end\n",
    "        \n",
    "    end\n",
    "    \n",
    "    return counts \n",
    "    \n",
    "end\n",
    "\n",
    "function bathroom_sim(pc::Float64, M::Int64)\n",
    "    # ------------------------------------------------------------\n",
    "    # Function to simulate M bathrom trials and estimate \n",
    "    # conditional state probabilities. \n",
    "    # Parameters: \n",
    "    #     pc: probability of conscientious user  \n",
    "    #     M: number of individual trials to run\n",
    "    # ------------------------------------------------------------\n",
    "    \n",
    "    # Initialize counting matrix with dimensions (usage states x sign states)\n",
    "    # where again usage denoted by (1-E, 2-A, 3-S, 4-C) and sign state denoted\n",
    "    # by (1-vacant, 2-occupied)\n",
    "    counts = zeros(4,2)\n",
    "    \n",
    "    # Run many trials \n",
    "    for ii=1:M\n",
    "        counts += bathroom_trial(pc) \n",
    "    end\n",
    "    \n",
    "    # Get estimated state probabilities \n",
    "    prob = counts / sum(counts)\n",
    "    \n",
    "    # Compute conditional probabilities \n",
    "    PFO = sum(prob[2:4,2]) / sum(prob[:,2])\n",
    "    PEV = sum(prob[1,1]) / sum(prob[:,1])\n",
    "    \n",
    "    # Print conditional probabilities \n",
    "    @printf \"Pr(actually occupied | sign says occupied) = %4.4f\\n\" PFO \n",
    "    @printf \"Pr(actually vacant   | sign says vacant)   = %4.4f\\n\" PEV \n",
    "    \n",
    "    return PFO, PEV\n",
    "    \n",
    "end"
   ]
  },
  {
   "cell_type": "markdown",
   "metadata": {},
   "source": [
    "Note that our simulation actually estimates the long-term probability of being in any particular usage-sign state combination.  In other words, we approximate the full joint probabilities $Pr(\\textrm{usage}, \\textrm{sign})$.  But in reality we're after the conditional probabilities of the usage state give the state of the sign.  The code computes these conditional probabilities as  \n",
    "\n",
    "$$\n",
    "Pr(\\textrm{actually occupied} ~|~ \\textrm{sign says occupied}) = \\frac{Pr(AO) + Pr(SO) + Pr(CO)}{Pr(EO) + Pr(AO) + Pr(SO) + Pr(CO)}\n",
    "$$\n",
    "\n",
    "and \n",
    "\n",
    "$$\n",
    "Pr(\\textrm{actually vacant} ~|~ \\textrm{sign says vacant}) = \\frac{Pr(EV)}{Pr(EV) + Pr(AV) + Pr(SV) + Pr(CV)}\n",
    "$$\n",
    "\n",
    "We run our simulation for 100K independent days where each day simulates 1000 bathroom usages and records the state of the system after every 10 usages.  Here are the results. "
   ]
  },
  {
   "cell_type": "code",
   "execution_count": 5,
   "metadata": {
    "collapsed": false
   },
   "outputs": [
    {
     "name": "stdout",
     "output_type": "stream",
     "text": [
      "Pr(actually occupied | sign says occupied) = 0.6252\n",
      "Pr(actually vacant   | sign says vacant)   = 0.7499\n"
     ]
    }
   ],
   "source": [
    "bathroom_sim(1/3, 100000);"
   ]
  },
  {
   "cell_type": "markdown",
   "metadata": {},
   "source": [
    "\n",
    "The simulation appears to indicate that if the sign says the bathroom is occupied then there is approximately a **62.5%** probability that the bathroom actually is occupied. \n",
    "\n",
    "Similarly, if the sign says the bathroom is vacant then there is approximately a **75%** probability that the bathroom actually is vacant. \n",
    "\n",
    "Let's see if we can back up these simulation results up with some theory. \n",
    "\n",
    "**Analytic Solution**: We solve the problem analytically by formulating the system as a discrete time-homogeneous Markov chain. By doing so we can analytically determine the stationary distribution of the Markov chain and thus know the long-term probability of being in any particular usage-sign state combination.  \n",
    "\n",
    "We should first point out a simplifying fact about this particular system.  Note that it is actually impossible for the state combinations $SV$ and $CV$ to occur.  That is, according to the rules, it is impossible for a type $S$ or type $C$ person to be in the bathroom and have the sign read vacant.  This means that we can ignore these two states in the analysis.  \n",
    "\n",
    "We start by formulating the matrix of transition probabilities between each combination of the six valid states.  Note that since this is still $6 \\times 6 = 36$ combinations we will write down the transition matrix and explain how we arrive at just a few of the entries.  The transition matrix is \n",
    "\n",
    "\n",
    "$$\n",
    "\\begin{array}{c|c|c|c|c|c|c|c|c|c}\n",
    "   & EV & AV  & EO & AO & SO & CO  & \\\\  \n",
    "   \\hline\n",
    "EV &1/2 & 1/6 & 0  &0   &1/6 & 1/6 & \\\\\n",
    "   \\hline\n",
    "AV &1/2 & 1/6 & 0  &0   &1/6 & 1/6 & \\\\\n",
    "   \\hline\n",
    "EO &0   & 0   &1/2 &1/6 &1/6 & 1/6 & \\\\\n",
    "   \\hline\n",
    "AO &0   & 0   &1/2 &1/6 &1/6 & 1/6 & \\\\\n",
    "   \\hline\n",
    "SO &0   & 0   &1/2 &1/6 &1/6 & 1/6 & \\\\\n",
    "   \\hline\n",
    "CO &1/2 & 1/6 &0   &0   &1/6 & 1/6 & \n",
    "\\end{array}\n",
    "$$\n",
    "\n",
    "where here entry in row $i$ and column $j$ gives the probability that the state transitions from state $i$ to state $j$. \n",
    "\n",
    "Let's start by examining the row corresponding to the state $EO$.  We want to know the probability with which the system transitions from the state where the bathroom is empty and the sign says occupied to each of the other valid states. \n",
    "\n",
    "- **EO**$\\rightarrow$**EV**: If the bathroom is still empty at the next time step then there is no way for the sign to change from $O$ to $V$, so this probability is 0 \n",
    "- **EO**$\\rightarrow$**AV**: If a type A person enters then he will not change the sign from $O$ to $V$, so this probability is 0 \n",
    "- **EO**$\\rightarrow$**EO**: If the bathroom is still empty at the next time step then the sign will remain $O$.  The bathroom stays empty with probably $1/2$\n",
    "- **EO**$\\rightarrow$**AO**: If a type A person enters then the sign will remain $O$.  A type A person enters with probably $1/2\\cdot 1/3 = 1/6$\n",
    "- **EO**$\\rightarrow$**SO**: If a type S person enters then the sign will remain $O$.  A type S person enters with probably $1/2\\cdot 1/3 = 1/6$\n",
    "- **EO**$\\rightarrow$**CO**: If a type C person enters then the sign will remain $O$.  A type C person enters with probably $1/2\\cdot 1/3 = 1/6$\n",
    "\n",
    "Let's also examine the row corresponding to the state $CO$. Note that when a type $C$ person leaves the bathroom they always changes the sign to $V$. \n",
    "\n",
    "- **CO**$\\rightarrow$**EV**: The bathroom then remains empty with probably $1/2$. \n",
    "- **CO**$\\rightarrow$**AV**: A type A person enters the bathroom (and doesn't change the sign) with probably $1/2\\cdot 1/3 = 1/6$. \n",
    "- **CO**$\\rightarrow$**EO**: If the bathroom remains empty after C leaves then there is no way for the sign to change to $O$.  Thus the probably is $0$\n",
    "- **CO**$\\rightarrow$**AO**: If a type A person enters then he won't change the sign to $O$, thus this probably is $0$. \n",
    "- **CO**$\\rightarrow$**SO**: If a type S person enters then the sign will change to $O$.  A type S person enters with probably $1/2\\cdot 1/3 = 1/6$\n",
    "- **CO**$\\rightarrow$**CO**: If a type C person enters then the sign will change to $O$.  A type C person enters with probably $1/2\\cdot 1/3 = 1/6$\n",
    "\n",
    "Under certain technical qualities of the Markov chain (which this particular problem satisfies) we can find the stationary distribution by finding the dominant eigenvector of the transpose of the transition matrix. The following function accomplishes this.  "
   ]
  },
  {
   "cell_type": "code",
   "execution_count": 12,
   "metadata": {
    "collapsed": false
   },
   "outputs": [
    {
     "data": {
      "text/plain": [
       "simple_bathroom_markov (generic function with 1 method)"
      ]
     },
     "execution_count": 12,
     "metadata": {},
     "output_type": "execute_result"
    }
   ],
   "source": [
    "function simple_bathroom_markov()\n",
    "    # ------------------------------------------------------------\n",
    "    # Function to find the stationary distribution of the \n",
    "    # bathroom Markov chain. States in the matrix are ordered \n",
    "    # as (EV, AV, EO, AO, SO, CO)\n",
    "    # ------------------------------------------------------------\n",
    "\n",
    "    # Construct to the transition matrix \n",
    "    P = [\n",
    "        1/2  1/6  0  0   1/6  1/6 \n",
    "        1/2  1/6  0  0   1/6  1/6 \n",
    "        0    0   1/2 1/6 1/6  1/6 \n",
    "        0    0   1/2 1/6 1/6  1/6 \n",
    "        0    0   1/2 1/6 1/6  1/6 \n",
    "        1/2  1/6 0   0   1/6  1/6 \n",
    "    ]\n",
    "    \n",
    "    # Find the dominant eigenvector \n",
    "    lam, p = eigs(P', nev=1, which=:LM)\n",
    "    p = real(p)\n",
    "    p = p / sum(p)\n",
    "    \n",
    "    println(\"stationary distribution: \", p)\n",
    "    \n",
    "    return p \n",
    "\n",
    "end"
   ]
  },
  {
   "cell_type": "code",
   "execution_count": 13,
   "metadata": {
    "collapsed": false
   },
   "outputs": [
    {
     "name": "stdout",
     "output_type": "stream",
     "text": [
      "stationary distribution: [0.25; 0.0833333; 0.25; 0.0833333; 0.166667; 0.166667]\n"
     ]
    }
   ],
   "source": [
    "simple_bathroom_markov();"
   ]
  },
  {
   "cell_type": "markdown",
   "metadata": {},
   "source": [
    "Thus the long-term probability of being in each of the valid states is given by \n",
    "\n",
    "$$\n",
    "\\begin{eqnarray}\n",
    "\\nonumber Pr(EV) &=& 1/4 \\\\\n",
    "\\nonumber Pr(AV) &=& 1/12 \\\\\n",
    "\\nonumber Pr(EO) &=& 1/4 \\\\\n",
    "\\nonumber Pr(AO) &=& 1/12 \\\\\n",
    "\\nonumber Pr(SO) &=& 1/6 \\\\\n",
    "\\nonumber Pr(CO) &=& 1/6 \\\\\n",
    "\\end{eqnarray}\n",
    "$$\n",
    "\n",
    "From the stationary distribution we can compute the conditional probabilities of interest:\n",
    "\n",
    "$$\n",
    "Pr(\\textrm{actually occupied} ~|~ \\textrm{sign says occupied}) = \\frac{Pr(AO) + Pr(SO) + Pr(CO)}{Pr(EO) + Pr(AO) + Pr(SO) + Pr(CO)} = \\frac{1/12+1/6+1/6}{1/4+1/12+1/6+1/6} = \\frac{5}{8} = 0.625\n",
    "$$\n",
    "\n",
    "and \n",
    "\n",
    "$$\n",
    "Pr(\\textrm{actually vacant} ~|~ \\textrm{sign says vacant}) = \\frac{Pr(EV)}{Pr(EV) + Pr(AV)} =\n",
    "\\frac{1/4}{1/4+1/12} = \\frac{3}{4} = 0.75\n",
    "$$\n",
    "\n",
    "Notice that the analytic results agree very well with our simulated results.  Thus we conclude that: \n",
    "\n",
    "- If the sign says the bathroom is occupied then there is a **62.5%** probability that the bathroom actually is occupied. \n",
    "\n",
    "- If the sign says the bathroom is vacant then there is a **75%** probability that the bathroom actually is vacant. "
   ]
  },
  {
   "cell_type": "markdown",
   "metadata": {},
   "source": [
    "**Extra Credit**: The extra credit questions asks what happens if the percentage of conscientious bathroom users changes.  Intuitively, it makes sense to believe that if more users are conscientious then the sign should become a better indicator of the actual usage state in the bathroom.  That is, the conditional probabilities of interest should approach 1.  Similarly, if fewer users are conscientious then we expect the conditional probabilities to go down. \n",
    "\n",
    "In order to solve this problem analytically we need to formulate the transition probabilities in terms of percentages of each type of user.  For simplicity, we'll make the assumption that we can change the percentage of conscientious users, but that percentages of apathetic and selfish remain equal to each other.  \n",
    "\n",
    "Let $p_A$, $p_S$, and $p_C$  be the probabilities that if a user enters the bathroom they are of type A, type B, and type C, respectively. The transition matrix for this more general system is as follows \n",
    "\n",
    "$$\n",
    "\\begin{array}{c|c|c|c|c|c|c|c|c|c}\n",
    "   & EV & AV  & EO & AO & SO & CO  & \\\\  \n",
    "   \\hline\n",
    "EV &1/2 & p_A/2 & 0  &0     &p_S/2 & p_C/2 & \\\\\n",
    "   \\hline\n",
    "AV &1/2 & p_A/2 & 0  &0     &p_S/2 & p_C/2 & \\\\\n",
    "   \\hline\n",
    "EO &0   & 0     &1/2 &p_A/2 &p_S/2 & p_C/2 & \\\\\n",
    "   \\hline\n",
    "AO &0   & 0     &1/2 &p_A/2 &p_S/2 & p_C/2 & \\\\\n",
    "   \\hline\n",
    "SO &0   & 0     &1/2 &p_A/2 &p_S/2 & p_C/2 & \\\\\n",
    "   \\hline\n",
    "CO &1/2 & p_A/2   &0   &0   &p_S/2 & p_C/2 & \n",
    "\\end{array}\n",
    "$$\n",
    "\n",
    "The first of the following functions takes as input the percentage of conscientious users, determines the stationary distribution, and returns the conditional probabilities of interest.  The second function plots the conditional probabilities for varying values of $p_C$. "
   ]
  },
  {
   "cell_type": "code",
   "execution_count": 36,
   "metadata": {
    "collapsed": true
   },
   "outputs": [],
   "source": [
    "using PyPlot"
   ]
  },
  {
   "cell_type": "code",
   "execution_count": null,
   "metadata": {
    "collapsed": false
   },
   "outputs": [],
   "source": [
    "function bathroom_markov(pc=1/3)\n",
    "    # ------------------------------------------------------------\n",
    "    # Function to find the stationary distribution of the \n",
    "    # bathroom Markov chain with various user percentages.\n",
    "    # Then returns conditional probabilities of interest. \n",
    "    # States in the matrix are ordered as (EV, AV, EO, AO, SO, CO)\n",
    "    # ------------------------------------------------------------\n",
    "    \n",
    "    pa = ps = (1-pc)/2 \n",
    "\n",
    "    # Construct to the transition matrix \n",
    "    P = [\n",
    "        1/2  pa/2  0   0    ps/2  pc/2 \n",
    "        1/2  pa/2  0   0    ps/2  pc/2 \n",
    "        0    0     1/2 pa/2 ps/2  pc/2 \n",
    "        0    0     1/2 pa/2 ps/2  pc/2 \n",
    "        0    0     1/2 pa/2 ps/2  pc/2 \n",
    "        1/2  pa/2  0   0    ps/2  pc/2 \n",
    "    ]\n",
    "    \n",
    "    # Find the dominant eigenvector \n",
    "    lam, p = eigs(P', nev=1, which=:LM)\n",
    "    p = real(p)\n",
    "    p = p / sum(p)\n",
    "    \n",
    "    PFO = sum(p[4:6]) / sum(p[3:6])\n",
    "    PEV = p[1] / sum(p[1:2])\n",
    "    \n",
    "    return p, PFO, PEV  \n",
    "\n",
    "end\n",
    "\n",
    "function varying_pc_plot()\n",
    "    \n",
    "    pcs = [ii/12 for ii=0:12]\n",
    "    PFO_hist = zeros(length(pcs))\n",
    "    PEV_hist =  zeros(length(pcs))\n",
    "    \n",
    "    for (ii,pc) in enumerate(pcs)\n",
    "        p, PFO, PEV = bathroom_markov(pc)\n",
    "        PFO_hist[ii] = PFO\n",
    "        PEV_hist[ii] = PEV\n",
    "    end \n",
    "    \n",
    "    mycolors = Dict(\"red\"=>\"#a76c6e\",\"blue\"=>\"#657897\")\n",
    "    \n",
    "    plot(pcs, PFO_hist, marker=\"o\", color=mycolors[\"red\"], label=\"Pr(actually O | sign says O)\")\n",
    "    plot(pcs[2:end], PEV_hist[2:end], marker=\"o\", color=mycolors[\"blue\"],label=\"Pr(actually V | sign says V)\")\n",
    "    \n",
    "    plot([1/3; 1/3], [0;1], color=\"gray\", linestyle=\"--\", alpha=0.25)\n",
    "    \n",
    "    xlim([-0.01,1.01])\n",
    "    ylim([0.4,1.01])\n",
    "\n",
    "    # Set figure size \n",
    "    fig = gcf(); fig[:set_size_inches](12, 4)\n",
    "    \n",
    "    # Set legend location\n",
    "    legend(loc=\"lower right\")\n",
    "    \n",
    "    # Set axis labels \n",
    "    xlabel(\"percentage of conscientious users\")\n",
    "    ylabel(\"probability\")\n",
    "    \n",
    "    # Turn off top and right spines \n",
    "    ax = gca()\n",
    "    ax[:spines][\"top\"][:set_visible](false) # Hide the top edge of the axis\n",
    "    ax[:spines][\"right\"][:set_visible](false) # Hide the top edge of the axis\n",
    "\n",
    "    # Set background color to white and gridlines to gray \n",
    "    ax[:yaxis][:grid](\"True\", color=\"lightgray\")\n",
    "    ax[:set_axisbelow](\"True\")\n",
    "    \n",
    "end;"
   ]
  },
  {
   "cell_type": "markdown",
   "metadata": {},
   "source": [
    "The following plot shows the probabilities of interest for values of $p_C$ varying from $0$ to $1$. The dotted vertical line indicates the original case where users of each type were equally likely. "
   ]
  },
  {
   "cell_type": "code",
   "execution_count": 108,
   "metadata": {
    "collapsed": false
   },
   "outputs": [
    {
     "data": {
      "image/png": "[encoded data removed]",
      "text/plain": [
       "PyPlot.Figure(PyObject <matplotlib.figure.Figure object at 0x322a8fa50>)"
      ]
     },
     "metadata": {},
     "output_type": "display_data"
    }
   ],
   "source": [
    "varying_pc_plot()"
   ]
  },
  {
   "cell_type": "markdown",
   "metadata": {},
   "source": [
    "Note that, as predicted, as the percentage of conscientious users goes to $1$ the probability that the sign actually indicates the state of the bathroom approaches 1 as well.  As $p_C$ goes to $0$ some more interesting things happen.  \n",
    "\n",
    "First, the probability that the bathroom is occupied given that the sign says occupied approaches $1/2$.  Thus when there are no conscientious users the sign offers zero information about the state of the bathroom.  \n",
    "\n",
    "Also note that the value of the conditional probability when the sign says the bathroom is vacant is undefined. This makes sense from the analysis because we're studying the long-term trends of the system.  Remember that if upon entrance to the bathroom the sign already reads occupied, the conscientious user is the only one that will flip it back to vacant upon exiting.  So as soon as the sign reads occupied for the first time it will continue to read occupied forever and ever.    "
   ]
  },
  {
   "cell_type": "markdown",
   "metadata": {},
   "source": [
    "### Appendix\n",
    "***\n",
    "\n",
    "The following function simulates the bathroom trial and estimates the transition probabilities for each of the valid state.  This served as a sanity check after doing the pencil-and-paper transition calculations. "
   ]
  },
  {
   "cell_type": "code",
   "execution_count": 6,
   "metadata": {
    "collapsed": false
   },
   "outputs": [
    {
     "data": {
      "text/plain": [
       "bathroom_transitions (generic function with 3 methods)"
      ]
     },
     "execution_count": 6,
     "metadata": {},
     "output_type": "execute_result"
    }
   ],
   "source": [
    "function bathroom_transitions(pc=1/3, M=100000)\n",
    "    # ------------------------------------------------------------\n",
    "    # Runs the bathroom trial simulation and estimates transition\n",
    "    # probabilities. States in the matrix are ordered as \n",
    "    # (EV, AV, EO, AO, SO, CO).\n",
    "    # Parameters: \n",
    "    #     pc: probability of conscientious user  \n",
    "    # ------------------------------------------------------------\n",
    "    \n",
    "    # Initialize counting matrix\n",
    "    P = zeros(8,8)\n",
    "    \n",
    "    # Local to Global map \n",
    "    lgmap = Dict(\n",
    "    (1,1) => 1,\n",
    "    (2,1) => 2,\n",
    "    (3,1) => 3,\n",
    "    (4,1) => 4,\n",
    "    (1,2) => 5,\n",
    "    (2,2) => 6,\n",
    "    (3,2) => 7,\n",
    "    (4,2) => 8,\n",
    "    )\n",
    "        \n",
    "    \n",
    "    # Initialize usage state from Multinouli distribution\n",
    "    use_state = findfirst(rand(Multinomial(1,[1/2,(1-pc)/4,(1-pc)/4,pc/2])))\n",
    "    \n",
    "    # Initialize sign state (1-vacant, 2-occupied)\n",
    "    sign_state = 1 \n",
    "    \n",
    "    for ii=1:M \n",
    "        \n",
    "        prev_state = (use_state, sign_state)\n",
    "        \n",
    "        # current occupant leaves \n",
    "        sign_state = exit_bathroom(use_state, sign_state)\n",
    "        \n",
    "        # new occupant enters \n",
    "        use_state = findfirst(rand(Multinomial(1,[1/2,(1-pc)/4,(1-pc)/4,pc/2])))\n",
    "        sign_state = enter_bathroom(use_state, sign_state)\n",
    "        \n",
    "        new_state = (use_state, sign_state)\n",
    "        \n",
    "        if ii%10==0\n",
    "            P[lgmap[prev_state], lgmap[new_state]] += 1 \n",
    "        end\n",
    "        \n",
    "    end\n",
    "    \n",
    "    P = P[[1,2,5,6,7,8],[1,2,5,6,7,8]]\n",
    "    \n",
    "    for ii=1:size(P,1)\n",
    "        P[ii,:] = P[ii,:] / sum(P[ii,:])\n",
    "    end\n",
    "    \n",
    "    return P\n",
    "    \n",
    "end"
   ]
  },
  {
   "cell_type": "code",
   "execution_count": 106,
   "metadata": {
    "collapsed": false
   },
   "outputs": [
    {
     "data": {
      "text/plain": [
       "6×6 Array{Float64,2}:\n",
       " 0.498899  0.166431  0.0       0.0       0.166959  0.167711\n",
       " 0.500671  0.16582   0.0       0.0       0.167678  0.165832\n",
       " 0.0       0.0       0.499926  0.167802  0.16624   0.166032\n",
       " 0.0       0.0       0.500402  0.168457  0.164508  0.166633\n",
       " 0.0       0.0       0.501289  0.166729  0.16686   0.165122\n",
       " 0.499883  0.168167  0.0       0.0       0.165122  0.166828"
      ]
     },
     "execution_count": 106,
     "metadata": {},
     "output_type": "execute_result"
    }
   ],
   "source": [
    "bathroom_transitions(1/3, 10000000)"
   ]
  }
 ],
 "metadata": {
  "kernelspec": {
   "display_name": "Julia 0.5.2",
   "language": "julia",
   "name": "julia-0.5"
  },
  "language_info": {
   "file_extension": ".jl",
   "mimetype": "application/julia",
   "name": "julia",
   "version": "0.5.2"
  }
 },
 "nbformat": 4,
 "nbformat_minor": 0
}
