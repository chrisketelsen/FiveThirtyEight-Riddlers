{
 "cells": [
  {
   "cell_type": "markdown",
   "metadata": {},
   "source": [
    "### July 7th Riddler Express: Beach Swimmers \n",
    "***\n",
    "\n",
    "The July 7th Riddler Express from [FiveThirtyEight](https://fivethirtyeight.com/features/how-many-critics-does-it-take-to-rank-all-the-movies/) is as follows: \n",
    "\n",
    "> Two long-distance swimmers are standing on a beach, right on the water’s edge. They begin 100 yards away from one another on the shore, which is a straight line of sand. Both swimmers swim at exactly the same speed. Swimmer A heads straight out to sea, directly perpendicular to the shore. At the same time, Swimmer B also heads out, swimming exactly in the direction of Swimmer A at all times. Over time, Swimmer B will approach a position directly in Swimmer A’s wake, where he will follow her at a fixed distance.\n",
    "\n",
    "> What is that distance?\n",
    "\n",
    "This is a bit of a trick question, since always moving directly towards Swimmer $A$ means Swimmer $B$ will never be *exactly* behind him, but we'll think about it in the limit. The **answer** is that Swimmer $B$ will be **50 yards** behind Swimmer $A$ when he is directly in his wake. \n",
    "\n",
    "I solved the problem by numerical simulation.  It is easy to set up a system of difference equations that describe the relationship between Swimmer $B$'s position at time $t + \\Delta t$, given his and Swimmer $A$'s positions at time $t$. Here I've assumed that the beach front is the $y$-axis, Swimmer $B$ begins at the origin, Swimmer $A$ begins at the position $(0,100)$, and they both travel at a speed of $\\nu$.  We then have\n",
    "\n",
    "\\begin{eqnarray}\n",
    "\\nonumber x_B(t + \\Delta t) &=& x_B(t) + \\nu ~\\Delta t ~u_x(t)  \\\\\n",
    "\\nonumber y_B(t + \\Delta t) &=& y_B(t) + \\nu ~\\Delta t ~u_y(t)  \\\\\n",
    "\\end{eqnarray}\n",
    "\n",
    "where $u_x(t)$ and $u_y(t)$ are the $x$- and $y$-components, respectively, of the unit vector describing the direction of travel of Swimmer $B$ at time $t$.  These quantities can be expressed based on the positions of the two swimmers at time $t$.  Note that the position of Swimmer $A$ is described by \n",
    "\n",
    "\\begin{eqnarray}\n",
    "\\nonumber x_A(t) &=& \\nu ~ t \\\\\n",
    "\\nonumber y_A(t) &=& 100\n",
    "\\end{eqnarray}\n",
    "\n",
    "We then have \n",
    "\n",
    "\\begin{eqnarray}\n",
    "\\nonumber u_x(t) &=& \\frac{\\nu~t - x_B(t)}{\\sqrt{[\\nu~t-x_B(t)]^2 + [100-y_B(t)]^2}} \\\\\n",
    "\\nonumber u_y(t) &=& \\frac{100 - y_B(t)}{\\sqrt{[\\nu~t-x_B(t)]^2 + [100-y_B(t)]^2}} \\\\\n",
    "\\end{eqnarray}\n",
    "\n",
    "Our final set of difference equations is then \n",
    "\n",
    "\\begin{eqnarray}\n",
    "\\nonumber x_B(t + \\Delta t) &=& x_B(t) + \\nu ~ \\Delta t ~ \\frac{\\nu~t - x_B(t)}{\\sqrt{[\\nu~t-x_B(t)]^2 + [100-y_B(t)]^2}} \\\\\n",
    "\\nonumber y_B(t + \\Delta t) &=& y_B(t) + \\nu ~ \\Delta t ~ \\frac{100 - y_B(t)}{\\sqrt{[\\nu~t-x_B(t)]^2 + [100-y_B(t)]^2}} \\\\\n",
    "\\end{eqnarray}\n",
    "\n",
    "Starting from their initial positions we can then step through time until some suitable stopping criterion is reached (I chose to stop when the $x$-component of the direction vector was within $10^{-14}$ of 1, indicating that Swimmer $B$ was nearly swimming horizontally) and check the distance between $x_B(t)$ and $x_A(t)$.  \n",
    "\n",
    "The following Julia function runs the simulation for given speed and time-step size and returns the resulting distance. "
   ]
  },
  {
   "cell_type": "code",
   "execution_count": 3,
   "metadata": {
    "collapsed": false
   },
   "outputs": [],
   "source": [
    "using PyPlot\n",
    "\n",
    "function swimmer_sim(speed, dt, show_plot=true)\n",
    "# ---------------------------------------------\n",
    "# Function to simulate the paths of Swimmers \n",
    "# ---------------------------------------------\n",
    "    \n",
    "    # Initial time, position, and direction parameters  \n",
    "    xB, yB, t, ux, uy = 0.0, 0.0, 0.0, 0.0, 1.0 \n",
    "    \n",
    "    # Arrays to store history of swimmer B for plotting \n",
    "    xpos, ypos = [], []\n",
    "\n",
    "    # Step through time until B's direction is nearly horiztonal \n",
    "    while abs(1-ux) > 1e-14\n",
    "        vx, vy = speed*t-xB, 100-yB\n",
    "        ux, uy = vx/norm([vx,vy],2), vy/norm([vx,vy],2) \n",
    "        xB, yB = xB + speed*dt*ux, yB + speed*dt*uy\n",
    "        t += dt\n",
    "        push!(xpos,xB)\n",
    "        push!(ypos,yB)\n",
    "    end\n",
    "\n",
    "    # Compute and print final distance \n",
    "    final_dist = speed*t - xB \n",
    "    print(\"distance between swimmers = \", final_dist,\"\\n\")\n",
    "\n",
    "    # Make plot of position histories \n",
    "    if show_plot \n",
    "        plot([0,speed*t],[100,100],\"b--\", label=\"Swimmer A\")\n",
    "        plot(xpos, ypos, \"k\", label=\"Swimmer B\")\n",
    "        plot(xB, yB, \"ko\")\n",
    "        plot(speed*t, 100, \"bo\");\n",
    "        legend(loc=\"lower right\")\n",
    "    end\n",
    "    \n",
    "    return final_dist\n",
    "    \n",
    "end;"
   ]
  },
  {
   "cell_type": "markdown",
   "metadata": {},
   "source": [
    "Here is the result and picture when the swimmers are traveling at $\\nu = 5$ yards per $\\texttt{<pick your favorite time unit>}$"
   ]
  },
  {
   "cell_type": "code",
   "execution_count": 2,
   "metadata": {
    "collapsed": false
   },
   "outputs": [
    {
     "name": "stdout",
     "output_type": "stream",
     "text": [
      "distance between swimmers = 50.001250028202435"
     ]
    },
    {
     "data": {
      "image/png": "[encoded data removed]",
      "text/plain": [
       "PyPlot.Figure(PyObject <matplotlib.figure.Figure object at 0x324170c10>)"
      ]
     },
     "metadata": {},
     "output_type": "display_data"
    },
    {
     "name": "stdout",
     "output_type": "stream",
     "text": [
      "\n"
     ]
    }
   ],
   "source": [
    "swimmer_sim(5.0, 0.001);"
   ]
  },
  {
   "cell_type": "markdown",
   "metadata": {},
   "source": [
    "We should probably also check that we obtain the same result regardless of the speeds of the swimmers. "
   ]
  },
  {
   "cell_type": "code",
   "execution_count": 3,
   "metadata": {
    "collapsed": false
   },
   "outputs": [
    {
     "name": "stdout",
     "output_type": "stream",
     "text": [
      "distance between swimmers = 50.000249991526516\n",
      "distance between swimmers = 50.00050000180863\n",
      "distance between swimmers = 50.00075000816571\n",
      "distance between swimmers = 50.001000018359946\n",
      "distance between swimmers = 50.001250028202435\n"
     ]
    }
   ],
   "source": [
    "# Test for speed = 1, 2, 3, 4, and 5\n",
    "for speed in [ii for ii=1:5] \n",
    "    swimmer_sim(speed, 0.001, false);\n",
    "end"
   ]
  },
  {
   "cell_type": "markdown",
   "metadata": {},
   "source": [
    "Finally, we should check that the resulting distance from the simulation is in fact tending to $50$ as $\\Delta t \\rightarrow 0$ "
   ]
  },
  {
   "cell_type": "code",
   "execution_count": 4,
   "metadata": {
    "collapsed": false
   },
   "outputs": [
    {
     "name": "stdout",
     "output_type": "stream",
     "text": [
      "distance between swimmers = 50.12526106941539\n",
      "distance between swimmers = 50.01250260484869\n",
      "distance between swimmers = 50.00125002820232\n",
      "distance between swimmers = 50.00012502579966\n",
      "distance between swimmers = 50.00001276351054\n"
     ]
    }
   ],
   "source": [
    "# Test for dt = .1, .01, .001, .0001, and .00001\n",
    "for dt in [0.1^ii for ii=1:5] \n",
    "    swimmer_sim(5.0, dt, false);\n",
    "end"
   ]
  },
  {
   "cell_type": "markdown",
   "metadata": {},
   "source": [
    "and it is! "
   ]
  }
 ],
 "metadata": {
  "kernelspec": {
   "display_name": "Julia 0.5.2",
   "language": "julia",
   "name": "julia-0.5"
  },
  "language_info": {
   "file_extension": ".jl",
   "mimetype": "application/julia",
   "name": "julia",
   "version": "0.5.2"
  }
 },
 "nbformat": 4,
 "nbformat_minor": 2
}
